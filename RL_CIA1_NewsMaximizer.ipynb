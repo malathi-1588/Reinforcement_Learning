{
 "cells": [
  {
   "cell_type": "code",
   "execution_count": 53,
   "id": "9072dfd4",
   "metadata": {},
   "outputs": [],
   "source": [
    "import random\n",
    "import math\n",
    "import matplotlib.pyplot as plt"
   ]
  },
  {
   "cell_type": "code",
   "execution_count": 54,
   "id": "9ba17eb4",
   "metadata": {},
   "outputs": [],
   "source": [
    "class KArmBandit:\n",
    "    def __init__(self, k, aligned_articles, epsilon = 0.1, ucb_c = 1.0):\n",
    "        self.k = k #number of arms\n",
    "        self.aligned_articles = aligned_articles #list of aligned articles\n",
    "        self.epsilon = epsilon #epsilon value\n",
    "        self.ucb_c = ucb_c #upper confidence bound\n",
    "        self.q_values = [0.0]*k #list to store estimated q(reward) values\n",
    "        self.action_counts = [0]*k #list to store how many times an article is chosen\n",
    "        self.time_step = 0\n",
    "        \n",
    "    def choose_action_epsilon_greedy(self):\n",
    "        if random.random() < self.epsilon:\n",
    "            #Exploration: choosing a random article\n",
    "            return random.choice(range(self.k))\n",
    "        else:\n",
    "            #Exploitation: choosing the article which has highest estimated q value\n",
    "            return max(range(self.k), key=lambda i: self.q_values[i])\n",
    "        \n",
    "    def choose_action_ucb(self):\n",
    "        self.time_step += 1\n",
    "        #UCB formula: q(a) + sqrt(2log(t)/N(a))\n",
    "        #N(a) = number of times an action is chosen\n",
    "        # 1e-6 is added in the denominator to avoid division by 0 error\n",
    "        ucb_values = [self.q_values[i] + self.ucb_c*math.sqrt(math.log(self.time_step)/(self.action_counts[i] + 1e-6))\n",
    "                     for i in range(self.k)]\n",
    "        return max(range(self.k), key = lambda i: ucb_values[i])\n",
    "    \n",
    "    def update(self, action, reward):\n",
    "        self.action_counts[action] += 1\n",
    "        self.q_values[action] += (reward - self.q_values[action])/self.action_counts[action]\n",
    "        \n"
   ]
  },
  {
   "cell_type": "code",
   "execution_count": 57,
   "id": "6e566cde",
   "metadata": {},
   "outputs": [],
   "source": [
    "k = 5\n",
    "aligned_articles = [0,1]\n",
    "bandit_epsilon = KArmBandit(k, aligned_articles, epsilon=0.1)\n",
    "bandit_ucb = KArmBandit(k, aligned_articles, ucb_c=2)\n",
    "trials = 1000\n",
    "aligned_shown_epsilon = 0\n",
    "aligned_shown_ucb = 0"
   ]
  },
  {
   "cell_type": "code",
   "execution_count": 58,
   "id": "709c1a30",
   "metadata": {},
   "outputs": [],
   "source": [
    "for t in range(trials):\n",
    "    #Reward distribution, aligned articles get higher reward around 5 whereas other articles get around 1\n",
    "    rewards = [random.gauss(5 if i in aligned_articles else 1, 1) for i in range(k)]\n",
    "    \n",
    "    action_epsilon = bandit_epsilon.choose_action_epsilon_greedy()\n",
    "    bandit_epsilon.update(action_epsilon, rewards[action_epsilon])\n",
    "    if action_epsilon in aligned_articles:\n",
    "        aligned_shown_epsilon +=1 \n",
    "        \n",
    "    action_ucb = bandit_ucb.choose_action_ucb()\n",
    "    bandit_ucb.update(action_ucb, rewards[action_ucb])\n",
    "    if action_ucb in aligned_articles:\n",
    "        aligned_shown_ucb += 1\n",
    "        "
   ]
  },
  {
   "cell_type": "code",
   "execution_count": 60,
   "id": "71e3fb38",
   "metadata": {},
   "outputs": [
    {
     "name": "stdout",
     "output_type": "stream",
     "text": [
      "Epsilon-Greedy:\n",
      "Estimated Q-values: [5.060048276765348, 4.649084798891544, 0.8354181986868464, 0.9531421471603001, 0.9748118624345828]\n",
      "Aligned Articles Shown: 941/1000 times.\n",
      "\n",
      "UCB:\n",
      "Estimated Q-values: [5.0721823912347, 4.930348747231807, 1.2797468153440468, -0.6393614603305118, -0.12279132587352914]\n",
      "Aligned Articles Shown: 996/1000 times.\n"
     ]
    }
   ],
   "source": [
    "print(\"Epsilon-Greedy:\")\n",
    "print(\"Estimated Q-values:\", bandit_epsilon.q_values)\n",
    "print(f\"Aligned Articles Shown: {aligned_shown_epsilon}/{trials} times.\")\n",
    "\n",
    "print(\"\\nUCB:\")\n",
    "print(\"Estimated Q-values:\", bandit_ucb.q_values)\n",
    "print(f\"Aligned Articles Shown: {aligned_shown_ucb}/{trials} times.\")"
   ]
  },
  {
   "cell_type": "code",
   "execution_count": null,
   "id": "5deb1fd0",
   "metadata": {},
   "outputs": [],
   "source": []
  }
 ],
 "metadata": {
  "kernelspec": {
   "display_name": "Python 3.9 (speed)",
   "language": "python",
   "name": "speed"
  },
  "language_info": {
   "codemirror_mode": {
    "name": "ipython",
    "version": 3
   },
   "file_extension": ".py",
   "mimetype": "text/x-python",
   "name": "python",
   "nbconvert_exporter": "python",
   "pygments_lexer": "ipython3",
   "version": "3.9.18"
  }
 },
 "nbformat": 4,
 "nbformat_minor": 5
}
